{
  "nbformat": 4,
  "nbformat_minor": 0,
  "metadata": {
    "colab": {
      "name": "DL-Test-1-J008.ipynb",
      "provenance": []
    },
    "kernelspec": {
      "name": "python3",
      "display_name": "Python 3"
    }
  },
  "cells": [
    {
      "cell_type": "code",
      "metadata": {
        "id": "riXnXgGKZpZF",
        "colab_type": "code",
        "outputId": "4ef7393b-7b3b-4b77-d22a-90a7b6d6d996",
        "colab": {
          "base_uri": "https://localhost:8080/",
          "height": 79
        }
      },
      "source": [
        "import keras\n",
        "from keras.models import Sequential\n",
        "from keras.datasets import fashion_mnist\n",
        "from keras.layers import Dense,Dropout,Activation,Flatten\n",
        "from keras.utils import to_categorical"
      ],
      "execution_count": 0,
      "outputs": [
        {
          "output_type": "stream",
          "text": [
            "Using TensorFlow backend.\n"
          ],
          "name": "stderr"
        },
        {
          "output_type": "display_data",
          "data": {
            "text/html": [
              "<p style=\"color: red;\">\n",
              "The default version of TensorFlow in Colab will soon switch to TensorFlow 2.x.<br>\n",
              "We recommend you <a href=\"https://www.tensorflow.org/guide/migrate\" target=\"_blank\">upgrade</a> now \n",
              "or ensure your notebook will continue to use TensorFlow 1.x via the <code>%tensorflow_version 1.x</code> magic:\n",
              "<a href=\"https://colab.research.google.com/notebooks/tensorflow_version.ipynb\" target=\"_blank\">more info</a>.</p>\n"
            ],
            "text/plain": [
              "<IPython.core.display.HTML object>"
            ]
          },
          "metadata": {
            "tags": []
          }
        }
      ]
    },
    {
      "cell_type": "code",
      "metadata": {
        "id": "Zj-OqYO6bFRy",
        "colab_type": "code",
        "outputId": "18858e9b-d918-4d2e-b79b-c9db91802af2",
        "colab": {
          "base_uri": "https://localhost:8080/",
          "height": 151
        }
      },
      "source": [
        "(X_train, y_train),(X_test,y_test) = fashion_mnist.load_data()"
      ],
      "execution_count": 0,
      "outputs": [
        {
          "output_type": "stream",
          "text": [
            "Downloading data from http://fashion-mnist.s3-website.eu-central-1.amazonaws.com/train-labels-idx1-ubyte.gz\n",
            "32768/29515 [=================================] - 0s 4us/step\n",
            "Downloading data from http://fashion-mnist.s3-website.eu-central-1.amazonaws.com/train-images-idx3-ubyte.gz\n",
            "26427392/26421880 [==============================] - 2s 0us/step\n",
            "Downloading data from http://fashion-mnist.s3-website.eu-central-1.amazonaws.com/t10k-labels-idx1-ubyte.gz\n",
            "8192/5148 [===============================================] - 0s 0us/step\n",
            "Downloading data from http://fashion-mnist.s3-website.eu-central-1.amazonaws.com/t10k-images-idx3-ubyte.gz\n",
            "4423680/4422102 [==============================] - 1s 0us/step\n"
          ],
          "name": "stdout"
        }
      ]
    },
    {
      "cell_type": "code",
      "metadata": {
        "id": "JVYpnx45ddCb",
        "colab_type": "code",
        "colab": {}
      },
      "source": [
        "NUM_ROWS = 28\n",
        "NUM_COLS = 28\n",
        "NUM_CLASSES = 10\n",
        "BATCH_SIZE = 256\n",
        "EPOCHS = 100"
      ],
      "execution_count": 0,
      "outputs": []
    },
    {
      "cell_type": "code",
      "metadata": {
        "id": "LGR9X6mSdK7V",
        "colab_type": "code",
        "colab": {}
      },
      "source": [
        "X_train = X_train.reshape((X_train.shape[0],NUM_ROWS*NUM_COLS))\n",
        "X_train = X_train.astype('float32')/255\n",
        "X_test = X_test.reshape((X_test.shape[0],NUM_ROWS*NUM_COLS))\n",
        "X_test = X_test.astype('float32')/255"
      ],
      "execution_count": 0,
      "outputs": []
    },
    {
      "cell_type": "code",
      "metadata": {
        "id": "g-XAVaI3cDvP",
        "colab_type": "code",
        "colab": {}
      },
      "source": [
        "y_train = to_categorical(y_train,NUM_CLASSES)\n",
        "y_test = to_categorical(y_test,NUM_CLASSES)"
      ],
      "execution_count": 0,
      "outputs": []
    },
    {
      "cell_type": "code",
      "metadata": {
        "id": "Ci_5jWKJcO1v",
        "colab_type": "code",
        "outputId": "a717b0ec-24b2-44ff-9bff-065f61472b75",
        "colab": {
          "base_uri": "https://localhost:8080/",
          "height": 138
        }
      },
      "source": [
        "initializer = keras.initializers.glorot_normal(seed=None)\n",
        "model = Sequential()\n",
        "model.add(Dense(512, activation = 'relu',kernel_initializer=initializer, input_shape=(NUM_ROWS*NUM_COLS,)))\n",
        "model.add(Dense(256, kernel_initializer=initializer, activation = 'relu'))\n",
        "model.add(Dense(10, kernel_initializer=initializer, activation='softmax'))"
      ],
      "execution_count": 0,
      "outputs": [
        {
          "output_type": "stream",
          "text": [
            "WARNING:tensorflow:From /usr/local/lib/python3.6/dist-packages/keras/backend/tensorflow_backend.py:66: The name tf.get_default_graph is deprecated. Please use tf.compat.v1.get_default_graph instead.\n",
            "\n",
            "WARNING:tensorflow:From /usr/local/lib/python3.6/dist-packages/keras/backend/tensorflow_backend.py:541: The name tf.placeholder is deprecated. Please use tf.compat.v1.placeholder instead.\n",
            "\n",
            "WARNING:tensorflow:From /usr/local/lib/python3.6/dist-packages/keras/backend/tensorflow_backend.py:4479: The name tf.truncated_normal is deprecated. Please use tf.random.truncated_normal instead.\n",
            "\n"
          ],
          "name": "stdout"
        }
      ]
    },
    {
      "cell_type": "code",
      "metadata": {
        "id": "64wzKlaseh1N",
        "colab_type": "code",
        "outputId": "afd614c8-e3e7-408a-f2fb-a0bd60201874",
        "colab": {
          "base_uri": "https://localhost:8080/",
          "height": 84
        }
      },
      "source": [
        "model.compile(optimizer='adam',loss = 'categorical_crossentropy', metrics=['accuracy'])"
      ],
      "execution_count": 0,
      "outputs": [
        {
          "output_type": "stream",
          "text": [
            "WARNING:tensorflow:From /usr/local/lib/python3.6/dist-packages/keras/optimizers.py:793: The name tf.train.Optimizer is deprecated. Please use tf.compat.v1.train.Optimizer instead.\n",
            "\n",
            "WARNING:tensorflow:From /usr/local/lib/python3.6/dist-packages/keras/backend/tensorflow_backend.py:3576: The name tf.log is deprecated. Please use tf.math.log instead.\n",
            "\n"
          ],
          "name": "stdout"
        }
      ]
    },
    {
      "cell_type": "code",
      "metadata": {
        "id": "IrvSCevZe-kb",
        "colab_type": "code",
        "outputId": "4af65251-8b9f-4d1f-956c-60a9fa8b7988",
        "colab": {
          "base_uri": "https://localhost:8080/",
          "height": 1000
        }
      },
      "source": [
        "history = model.fit(X_train,y_train,batch_size=BATCH_SIZE,epochs=EPOCHS,verbose=1,validation_data=(X_test,y_test))\n",
        "score = model.evaluate(X_test, y_test, verbose=0)\n",
        "print('Test loss:', score[0])\n",
        "print('Test accuracy:', score[1])"
      ],
      "execution_count": 0,
      "outputs": [
        {
          "output_type": "stream",
          "text": [
            "WARNING:tensorflow:From /usr/local/lib/python3.6/dist-packages/tensorflow_core/python/ops/math_grad.py:1424: where (from tensorflow.python.ops.array_ops) is deprecated and will be removed in a future version.\n",
            "Instructions for updating:\n",
            "Use tf.where in 2.0, which has the same broadcast rule as np.where\n",
            "WARNING:tensorflow:From /usr/local/lib/python3.6/dist-packages/keras/backend/tensorflow_backend.py:1033: The name tf.assign_add is deprecated. Please use tf.compat.v1.assign_add instead.\n",
            "\n",
            "WARNING:tensorflow:From /usr/local/lib/python3.6/dist-packages/keras/backend/tensorflow_backend.py:1020: The name tf.assign is deprecated. Please use tf.compat.v1.assign instead.\n",
            "\n",
            "WARNING:tensorflow:From /usr/local/lib/python3.6/dist-packages/keras/backend/tensorflow_backend.py:3005: The name tf.Session is deprecated. Please use tf.compat.v1.Session instead.\n",
            "\n",
            "Train on 60000 samples, validate on 10000 samples\n",
            "Epoch 1/100\n",
            "WARNING:tensorflow:From /usr/local/lib/python3.6/dist-packages/keras/backend/tensorflow_backend.py:190: The name tf.get_default_session is deprecated. Please use tf.compat.v1.get_default_session instead.\n",
            "\n",
            "WARNING:tensorflow:From /usr/local/lib/python3.6/dist-packages/keras/backend/tensorflow_backend.py:197: The name tf.ConfigProto is deprecated. Please use tf.compat.v1.ConfigProto instead.\n",
            "\n",
            "WARNING:tensorflow:From /usr/local/lib/python3.6/dist-packages/keras/backend/tensorflow_backend.py:207: The name tf.global_variables is deprecated. Please use tf.compat.v1.global_variables instead.\n",
            "\n",
            "WARNING:tensorflow:From /usr/local/lib/python3.6/dist-packages/keras/backend/tensorflow_backend.py:216: The name tf.is_variable_initialized is deprecated. Please use tf.compat.v1.is_variable_initialized instead.\n",
            "\n",
            "WARNING:tensorflow:From /usr/local/lib/python3.6/dist-packages/keras/backend/tensorflow_backend.py:223: The name tf.variables_initializer is deprecated. Please use tf.compat.v1.variables_initializer instead.\n",
            "\n",
            "60000/60000 [==============================] - 6s 101us/step - loss: 0.5180 - acc: 0.8170 - val_loss: 0.4263 - val_acc: 0.8491\n",
            "Epoch 2/100\n",
            "60000/60000 [==============================] - 5s 89us/step - loss: 0.3670 - acc: 0.8682 - val_loss: 0.4149 - val_acc: 0.8544\n",
            "Epoch 3/100\n",
            "60000/60000 [==============================] - 5s 90us/step - loss: 0.3250 - acc: 0.8818 - val_loss: 0.3490 - val_acc: 0.8745\n",
            "Epoch 4/100\n",
            "60000/60000 [==============================] - 6s 93us/step - loss: 0.2952 - acc: 0.8909 - val_loss: 0.3626 - val_acc: 0.8729\n",
            "Epoch 5/100\n",
            "60000/60000 [==============================] - 6s 92us/step - loss: 0.2789 - acc: 0.8970 - val_loss: 0.3357 - val_acc: 0.8806\n",
            "Epoch 6/100\n",
            "60000/60000 [==============================] - 5s 91us/step - loss: 0.2663 - acc: 0.9003 - val_loss: 0.3410 - val_acc: 0.8779\n",
            "Epoch 7/100\n",
            "60000/60000 [==============================] - 5s 90us/step - loss: 0.2491 - acc: 0.9069 - val_loss: 0.3129 - val_acc: 0.8889\n",
            "Epoch 8/100\n",
            "60000/60000 [==============================] - 5s 88us/step - loss: 0.2404 - acc: 0.9105 - val_loss: 0.3253 - val_acc: 0.8802\n",
            "Epoch 9/100\n",
            "60000/60000 [==============================] - 5s 89us/step - loss: 0.2292 - acc: 0.9141 - val_loss: 0.3381 - val_acc: 0.8848\n",
            "Epoch 10/100\n",
            "60000/60000 [==============================] - 5s 89us/step - loss: 0.2163 - acc: 0.9189 - val_loss: 0.3237 - val_acc: 0.8877\n",
            "Epoch 11/100\n",
            "60000/60000 [==============================] - 5s 90us/step - loss: 0.2098 - acc: 0.9198 - val_loss: 0.3216 - val_acc: 0.8900\n",
            "Epoch 12/100\n",
            "60000/60000 [==============================] - 5s 90us/step - loss: 0.1993 - acc: 0.9246 - val_loss: 0.3177 - val_acc: 0.8912\n",
            "Epoch 13/100\n",
            "60000/60000 [==============================] - 5s 89us/step - loss: 0.1904 - acc: 0.9287 - val_loss: 0.3146 - val_acc: 0.8922\n",
            "Epoch 14/100\n",
            "60000/60000 [==============================] - 5s 88us/step - loss: 0.1886 - acc: 0.9288 - val_loss: 0.3330 - val_acc: 0.8877\n",
            "Epoch 15/100\n",
            "60000/60000 [==============================] - 5s 89us/step - loss: 0.1779 - acc: 0.9336 - val_loss: 0.3485 - val_acc: 0.8833\n",
            "Epoch 16/100\n",
            "60000/60000 [==============================] - 5s 88us/step - loss: 0.1704 - acc: 0.9352 - val_loss: 0.3299 - val_acc: 0.8940\n",
            "Epoch 17/100\n",
            "60000/60000 [==============================] - 5s 89us/step - loss: 0.1636 - acc: 0.9389 - val_loss: 0.3272 - val_acc: 0.8928\n",
            "Epoch 18/100\n",
            "60000/60000 [==============================] - 5s 88us/step - loss: 0.1612 - acc: 0.9383 - val_loss: 0.3388 - val_acc: 0.8926\n",
            "Epoch 19/100\n",
            "60000/60000 [==============================] - 5s 87us/step - loss: 0.1542 - acc: 0.9413 - val_loss: 0.3588 - val_acc: 0.8912\n",
            "Epoch 20/100\n",
            "60000/60000 [==============================] - 5s 88us/step - loss: 0.1479 - acc: 0.9448 - val_loss: 0.3508 - val_acc: 0.8881\n",
            "Epoch 21/100\n",
            "60000/60000 [==============================] - 5s 88us/step - loss: 0.1422 - acc: 0.9466 - val_loss: 0.3394 - val_acc: 0.8951\n",
            "Epoch 22/100\n",
            "60000/60000 [==============================] - 5s 87us/step - loss: 0.1365 - acc: 0.9480 - val_loss: 0.3519 - val_acc: 0.8927\n",
            "Epoch 23/100\n",
            "60000/60000 [==============================] - 5s 87us/step - loss: 0.1306 - acc: 0.9498 - val_loss: 0.4303 - val_acc: 0.8824\n",
            "Epoch 24/100\n",
            "60000/60000 [==============================] - 5s 88us/step - loss: 0.1305 - acc: 0.9505 - val_loss: 0.3565 - val_acc: 0.8928\n",
            "Epoch 25/100\n",
            "60000/60000 [==============================] - 5s 86us/step - loss: 0.1223 - acc: 0.9534 - val_loss: 0.3875 - val_acc: 0.8876\n",
            "Epoch 26/100\n",
            "60000/60000 [==============================] - 5s 88us/step - loss: 0.1197 - acc: 0.9531 - val_loss: 0.3830 - val_acc: 0.8959\n",
            "Epoch 27/100\n",
            "60000/60000 [==============================] - 5s 88us/step - loss: 0.1158 - acc: 0.9562 - val_loss: 0.3803 - val_acc: 0.8934\n",
            "Epoch 28/100\n",
            "60000/60000 [==============================] - 5s 88us/step - loss: 0.1130 - acc: 0.9573 - val_loss: 0.3888 - val_acc: 0.8935\n",
            "Epoch 29/100\n",
            "60000/60000 [==============================] - 5s 89us/step - loss: 0.1060 - acc: 0.9598 - val_loss: 0.3887 - val_acc: 0.8959\n",
            "Epoch 30/100\n",
            "60000/60000 [==============================] - 5s 89us/step - loss: 0.1043 - acc: 0.9617 - val_loss: 0.3996 - val_acc: 0.8973\n",
            "Epoch 31/100\n",
            "60000/60000 [==============================] - 5s 89us/step - loss: 0.0985 - acc: 0.9631 - val_loss: 0.4187 - val_acc: 0.8910\n",
            "Epoch 32/100\n",
            "60000/60000 [==============================] - 5s 89us/step - loss: 0.0920 - acc: 0.9652 - val_loss: 0.4026 - val_acc: 0.8960\n",
            "Epoch 33/100\n",
            "60000/60000 [==============================] - 5s 87us/step - loss: 0.0964 - acc: 0.9632 - val_loss: 0.3941 - val_acc: 0.9024\n",
            "Epoch 34/100\n",
            "60000/60000 [==============================] - 5s 88us/step - loss: 0.0881 - acc: 0.9666 - val_loss: 0.4247 - val_acc: 0.8937\n",
            "Epoch 35/100\n",
            "60000/60000 [==============================] - 5s 87us/step - loss: 0.0898 - acc: 0.9655 - val_loss: 0.4477 - val_acc: 0.8941\n",
            "Epoch 36/100\n",
            "60000/60000 [==============================] - 5s 88us/step - loss: 0.0872 - acc: 0.9668 - val_loss: 0.4418 - val_acc: 0.8911\n",
            "Epoch 37/100\n",
            "60000/60000 [==============================] - 5s 87us/step - loss: 0.0824 - acc: 0.9689 - val_loss: 0.4401 - val_acc: 0.8919\n",
            "Epoch 38/100\n",
            "60000/60000 [==============================] - 5s 88us/step - loss: 0.0792 - acc: 0.9699 - val_loss: 0.4431 - val_acc: 0.9013\n",
            "Epoch 39/100\n",
            "60000/60000 [==============================] - 5s 85us/step - loss: 0.0740 - acc: 0.9718 - val_loss: 0.4742 - val_acc: 0.8954\n",
            "Epoch 40/100\n",
            "60000/60000 [==============================] - 5s 88us/step - loss: 0.0704 - acc: 0.9741 - val_loss: 0.4629 - val_acc: 0.8988\n",
            "Epoch 41/100\n",
            "60000/60000 [==============================] - 5s 88us/step - loss: 0.0756 - acc: 0.9717 - val_loss: 0.4694 - val_acc: 0.8997\n",
            "Epoch 42/100\n",
            "60000/60000 [==============================] - 5s 86us/step - loss: 0.0720 - acc: 0.9731 - val_loss: 0.4596 - val_acc: 0.8991\n",
            "Epoch 43/100\n",
            "60000/60000 [==============================] - 5s 89us/step - loss: 0.0656 - acc: 0.9744 - val_loss: 0.4883 - val_acc: 0.8917\n",
            "Epoch 44/100\n",
            "60000/60000 [==============================] - 5s 87us/step - loss: 0.0656 - acc: 0.9754 - val_loss: 0.4793 - val_acc: 0.8996\n",
            "Epoch 45/100\n",
            "60000/60000 [==============================] - 5s 89us/step - loss: 0.0671 - acc: 0.9750 - val_loss: 0.4952 - val_acc: 0.8952\n",
            "Epoch 46/100\n",
            "60000/60000 [==============================] - 5s 88us/step - loss: 0.0594 - acc: 0.9772 - val_loss: 0.5243 - val_acc: 0.8952\n",
            "Epoch 47/100\n",
            "60000/60000 [==============================] - 5s 88us/step - loss: 0.0610 - acc: 0.9772 - val_loss: 0.4956 - val_acc: 0.8952\n",
            "Epoch 48/100\n",
            "60000/60000 [==============================] - 5s 87us/step - loss: 0.0543 - acc: 0.9794 - val_loss: 0.4818 - val_acc: 0.8966\n",
            "Epoch 49/100\n",
            "60000/60000 [==============================] - 5s 87us/step - loss: 0.0545 - acc: 0.9786 - val_loss: 0.5520 - val_acc: 0.8884\n",
            "Epoch 50/100\n",
            "60000/60000 [==============================] - 5s 87us/step - loss: 0.0513 - acc: 0.9807 - val_loss: 0.4876 - val_acc: 0.8987\n",
            "Epoch 51/100\n",
            "60000/60000 [==============================] - 5s 86us/step - loss: 0.0555 - acc: 0.9787 - val_loss: 0.5057 - val_acc: 0.8934\n",
            "Epoch 52/100\n",
            "60000/60000 [==============================] - 5s 88us/step - loss: 0.0481 - acc: 0.9815 - val_loss: 0.5339 - val_acc: 0.8968\n",
            "Epoch 53/100\n",
            "60000/60000 [==============================] - 5s 87us/step - loss: 0.0570 - acc: 0.9776 - val_loss: 0.5200 - val_acc: 0.8956\n",
            "Epoch 54/100\n",
            "60000/60000 [==============================] - 5s 88us/step - loss: 0.0516 - acc: 0.9809 - val_loss: 0.5426 - val_acc: 0.8933\n",
            "Epoch 55/100\n",
            "60000/60000 [==============================] - 5s 88us/step - loss: 0.0480 - acc: 0.9823 - val_loss: 0.5461 - val_acc: 0.8949\n",
            "Epoch 56/100\n",
            "60000/60000 [==============================] - 5s 89us/step - loss: 0.0397 - acc: 0.9853 - val_loss: 0.5566 - val_acc: 0.8954\n",
            "Epoch 57/100\n",
            "60000/60000 [==============================] - 5s 89us/step - loss: 0.0452 - acc: 0.9829 - val_loss: 0.5548 - val_acc: 0.8917\n",
            "Epoch 58/100\n",
            "60000/60000 [==============================] - 5s 89us/step - loss: 0.0430 - acc: 0.9842 - val_loss: 0.5501 - val_acc: 0.8970\n",
            "Epoch 59/100\n",
            "60000/60000 [==============================] - 5s 88us/step - loss: 0.0404 - acc: 0.9846 - val_loss: 0.5826 - val_acc: 0.8940\n",
            "Epoch 60/100\n",
            "60000/60000 [==============================] - 5s 89us/step - loss: 0.0463 - acc: 0.9826 - val_loss: 0.5612 - val_acc: 0.8957\n",
            "Epoch 61/100\n",
            "60000/60000 [==============================] - 5s 88us/step - loss: 0.0379 - acc: 0.9859 - val_loss: 0.5819 - val_acc: 0.8992\n",
            "Epoch 62/100\n",
            "60000/60000 [==============================] - 5s 89us/step - loss: 0.0411 - acc: 0.9848 - val_loss: 0.5732 - val_acc: 0.8983\n",
            "Epoch 63/100\n",
            "60000/60000 [==============================] - 6s 93us/step - loss: 0.0377 - acc: 0.9859 - val_loss: 0.6001 - val_acc: 0.8995\n",
            "Epoch 64/100\n",
            "60000/60000 [==============================] - 6s 92us/step - loss: 0.0437 - acc: 0.9840 - val_loss: 0.5925 - val_acc: 0.8977\n",
            "Epoch 65/100\n",
            "60000/60000 [==============================] - 5s 89us/step - loss: 0.0398 - acc: 0.9850 - val_loss: 0.6050 - val_acc: 0.8962\n",
            "Epoch 66/100\n",
            "60000/60000 [==============================] - 5s 89us/step - loss: 0.0374 - acc: 0.9862 - val_loss: 0.6076 - val_acc: 0.8990\n",
            "Epoch 67/100\n",
            "60000/60000 [==============================] - 5s 88us/step - loss: 0.0274 - acc: 0.9900 - val_loss: 0.6238 - val_acc: 0.8958\n",
            "Epoch 68/100\n",
            "60000/60000 [==============================] - 5s 89us/step - loss: 0.0311 - acc: 0.9885 - val_loss: 0.6271 - val_acc: 0.8956\n",
            "Epoch 69/100\n",
            "60000/60000 [==============================] - 5s 88us/step - loss: 0.0378 - acc: 0.9859 - val_loss: 0.6013 - val_acc: 0.8985\n",
            "Epoch 70/100\n",
            "60000/60000 [==============================] - 5s 88us/step - loss: 0.0298 - acc: 0.9889 - val_loss: 0.6021 - val_acc: 0.8977\n",
            "Epoch 71/100\n",
            "60000/60000 [==============================] - 5s 88us/step - loss: 0.0349 - acc: 0.9869 - val_loss: 0.6434 - val_acc: 0.8961\n",
            "Epoch 72/100\n",
            "60000/60000 [==============================] - 5s 90us/step - loss: 0.0347 - acc: 0.9869 - val_loss: 0.6330 - val_acc: 0.8967\n",
            "Epoch 73/100\n",
            "60000/60000 [==============================] - 5s 88us/step - loss: 0.0330 - acc: 0.9881 - val_loss: 0.6519 - val_acc: 0.8952\n",
            "Epoch 74/100\n",
            "60000/60000 [==============================] - 5s 89us/step - loss: 0.0295 - acc: 0.9890 - val_loss: 0.6339 - val_acc: 0.8959\n",
            "Epoch 75/100\n",
            "60000/60000 [==============================] - 5s 90us/step - loss: 0.0375 - acc: 0.9865 - val_loss: 0.6107 - val_acc: 0.8965\n",
            "Epoch 76/100\n",
            "60000/60000 [==============================] - 5s 87us/step - loss: 0.0252 - acc: 0.9911 - val_loss: 0.6253 - val_acc: 0.8964\n",
            "Epoch 77/100\n",
            "60000/60000 [==============================] - 5s 89us/step - loss: 0.0246 - acc: 0.9913 - val_loss: 0.6458 - val_acc: 0.8974\n",
            "Epoch 78/100\n",
            "60000/60000 [==============================] - 5s 87us/step - loss: 0.0324 - acc: 0.9881 - val_loss: 0.6484 - val_acc: 0.8991\n",
            "Epoch 79/100\n",
            "60000/60000 [==============================] - 5s 89us/step - loss: 0.0291 - acc: 0.9892 - val_loss: 0.6422 - val_acc: 0.8956\n",
            "Epoch 80/100\n",
            "60000/60000 [==============================] - 5s 89us/step - loss: 0.0310 - acc: 0.9890 - val_loss: 0.6735 - val_acc: 0.8971\n",
            "Epoch 81/100\n",
            "60000/60000 [==============================] - 5s 89us/step - loss: 0.0335 - acc: 0.9876 - val_loss: 0.6384 - val_acc: 0.8940\n",
            "Epoch 82/100\n",
            "60000/60000 [==============================] - 5s 88us/step - loss: 0.0215 - acc: 0.9924 - val_loss: 0.6671 - val_acc: 0.8949\n",
            "Epoch 83/100\n",
            "60000/60000 [==============================] - 5s 90us/step - loss: 0.0339 - acc: 0.9877 - val_loss: 0.7095 - val_acc: 0.8873\n",
            "Epoch 84/100\n",
            "60000/60000 [==============================] - 5s 91us/step - loss: 0.0266 - acc: 0.9903 - val_loss: 0.6766 - val_acc: 0.8997\n",
            "Epoch 85/100\n",
            "60000/60000 [==============================] - 5s 91us/step - loss: 0.0239 - acc: 0.9913 - val_loss: 0.6515 - val_acc: 0.8981\n",
            "Epoch 86/100\n",
            "60000/60000 [==============================] - 5s 90us/step - loss: 0.0257 - acc: 0.9903 - val_loss: 0.6566 - val_acc: 0.8991\n",
            "Epoch 87/100\n",
            "60000/60000 [==============================] - 5s 89us/step - loss: 0.0247 - acc: 0.9907 - val_loss: 0.6768 - val_acc: 0.8979\n",
            "Epoch 88/100\n",
            "60000/60000 [==============================] - 5s 89us/step - loss: 0.0400 - acc: 0.9857 - val_loss: 0.6691 - val_acc: 0.8963\n",
            "Epoch 89/100\n",
            "60000/60000 [==============================] - 5s 90us/step - loss: 0.0162 - acc: 0.9946 - val_loss: 0.7087 - val_acc: 0.8960\n",
            "Epoch 90/100\n",
            "60000/60000 [==============================] - 5s 90us/step - loss: 0.0234 - acc: 0.9914 - val_loss: 0.6856 - val_acc: 0.9001\n",
            "Epoch 91/100\n",
            "60000/60000 [==============================] - 5s 90us/step - loss: 0.0254 - acc: 0.9909 - val_loss: 0.6996 - val_acc: 0.8968\n",
            "Epoch 92/100\n",
            "60000/60000 [==============================] - 5s 89us/step - loss: 0.0226 - acc: 0.9919 - val_loss: 0.7042 - val_acc: 0.8950\n",
            "Epoch 93/100\n",
            "60000/60000 [==============================] - 5s 87us/step - loss: 0.0320 - acc: 0.9891 - val_loss: 0.6784 - val_acc: 0.8912\n",
            "Epoch 94/100\n",
            "60000/60000 [==============================] - 5s 88us/step - loss: 0.0298 - acc: 0.9893 - val_loss: 0.7068 - val_acc: 0.8922\n",
            "Epoch 95/100\n",
            "60000/60000 [==============================] - 5s 86us/step - loss: 0.0343 - acc: 0.9876 - val_loss: 0.6780 - val_acc: 0.8947\n",
            "Epoch 96/100\n",
            "60000/60000 [==============================] - 5s 87us/step - loss: 0.0183 - acc: 0.9935 - val_loss: 0.7099 - val_acc: 0.8980\n",
            "Epoch 97/100\n",
            "60000/60000 [==============================] - 5s 87us/step - loss: 0.0119 - acc: 0.9959 - val_loss: 0.7197 - val_acc: 0.8995\n",
            "Epoch 98/100\n",
            "60000/60000 [==============================] - 5s 86us/step - loss: 0.0155 - acc: 0.9945 - val_loss: 0.6960 - val_acc: 0.9000\n",
            "Epoch 99/100\n",
            "60000/60000 [==============================] - 5s 86us/step - loss: 0.0208 - acc: 0.9924 - val_loss: 0.7040 - val_acc: 0.8942\n",
            "Epoch 100/100\n",
            "60000/60000 [==============================] - 5s 85us/step - loss: 0.0371 - acc: 0.9872 - val_loss: 0.7329 - val_acc: 0.8897\n",
            "Test loss: 0.7328692455884069\n",
            "Test accuracy: 0.8897\n"
          ],
          "name": "stdout"
        }
      ]
    },
    {
      "cell_type": "code",
      "metadata": {
        "id": "ldcE5GtKfPq2",
        "colab_type": "code",
        "outputId": "d4b8e1a8-2756-47f5-8d72-870c2166ae5f",
        "colab": {
          "base_uri": "https://localhost:8080/",
          "height": 252
        }
      },
      "source": [
        "model.summary()"
      ],
      "execution_count": 0,
      "outputs": [
        {
          "output_type": "stream",
          "text": [
            "Model: \"sequential_1\"\n",
            "_________________________________________________________________\n",
            "Layer (type)                 Output Shape              Param #   \n",
            "=================================================================\n",
            "dense_1 (Dense)              (None, 512)               401920    \n",
            "_________________________________________________________________\n",
            "dense_2 (Dense)              (None, 256)               131328    \n",
            "_________________________________________________________________\n",
            "dense_3 (Dense)              (None, 10)                2570      \n",
            "=================================================================\n",
            "Total params: 535,818\n",
            "Trainable params: 535,818\n",
            "Non-trainable params: 0\n",
            "_________________________________________________________________\n"
          ],
          "name": "stdout"
        }
      ]
    },
    {
      "cell_type": "code",
      "metadata": {
        "id": "SD9twcGSrlWU",
        "colab_type": "code",
        "outputId": "6310b8cc-3996-4703-acd5-18fdc8ad1a0a",
        "colab": {
          "base_uri": "https://localhost:8080/",
          "height": 573
        }
      },
      "source": [
        "import matplotlib.pyplot as plt\n",
        "plt.plot(history.history['acc'])\n",
        "plt.plot(history.history['val_acc'])\n",
        "plt.title('Model accuracy')\n",
        "plt.ylabel('Accuracy')\n",
        "plt.xlabel('Epoch')\n",
        "plt.legend(['Train', 'Test'], loc='upper left')\n",
        "plt.show()\n",
        "\n",
        "plt.plot(history.history['loss'])\n",
        "plt.plot(history.history['val_loss'])\n",
        "plt.title('Model loss')\n",
        "plt.ylabel('Loss')\n",
        "plt.xlabel('Epoch')\n",
        "plt.legend(['Train', 'Test'], loc='upper left')\n",
        "plt.show()"
      ],
      "execution_count": 0,
      "outputs": [
        {
          "output_type": "display_data",
          "data": {
            "image/png": "[encoded data removed]",
            "text/plain": [
              "<Figure size 432x288 with 1 Axes>"
            ]
          },
          "metadata": {
            "tags": []
          }
        },
        {
          "output_type": "display_data",
          "data": {
            "image/png": "[encoded data removed]",
            "text/plain": [
              "<Figure size 432x288 with 1 Axes>"
            ]
          },
          "metadata": {
            "tags": []
          }
        }
      ]
    },
    {
      "cell_type": "code",
      "metadata": {
        "id": "tuwJCSSRr88x",
        "colab_type": "code",
        "colab": {}
      },
      "source": [
        ""
      ],
      "execution_count": 0,
      "outputs": []
    }
  ]
}